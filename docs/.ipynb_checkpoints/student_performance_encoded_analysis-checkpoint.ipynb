{
 "cells": [
  {
   "cell_type": "code",
   "execution_count": null,
   "id": "9c0aa161",
   "metadata": {},
   "outputs": [],
   "source": [
    "# ✅ 라이브러리 불러오기\n",
    "from datasets import load_dataset\n",
    "import pandas as pd\n",
    "from pathlib import Path\n",
    "from sklearn.model_selection import train_test_split\n",
    "from sklearn.linear_model import LinearRegression\n",
    "from sklearn.metrics import mean_squared_error, r2_score\n",
    "from sklearn.preprocessing import LabelEncoder\n",
    "import matplotlib.pyplot as plt\n",
    "import seaborn as sns\n",
    "print(\"✅ 라이브러리 로드 완료\")"
   ]
  },
  {
   "cell_type": "code",
   "execution_count": null,
   "id": "a95a2da3",
   "metadata": {},
   "outputs": [],
   "source": [
    "# ✅ 데이터 로딩 및 전처리 파일 저장\n",
    "data_pkl_path = Path('./data/student_data.pkl')\n",
    "if not data_pkl_path.exists():\n",
    "    print(\"🔽 HuggingFace에서 데이터 다운로드 및 전처리 중...\")\n",
    "    dataset = load_dataset(\"neuralsorcerer/student-performance\")\n",
    "    df = dataset['train'].to_pandas()\n",
    "    cols = ['Gender', 'ParentalEducation', 'TestScore_Math', 'TestScore_Reading', 'TestScore_Science']\n",
    "    df = df[cols].dropna()\n",
    "    le_gender = LabelEncoder()\n",
    "    le_parent = LabelEncoder()\n",
    "    df['Gender'] = le_gender.fit_transform(df['Gender'])\n",
    "    df['ParentalEducation'] = le_parent.fit_transform(df['ParentalEducation'])\n",
    "    data_pkl_path.parent.mkdir(parents=True, exist_ok=True)\n",
    "    df.to_pickle(data_pkl_path)\n",
    "    print(\"✅ 전처리 완료 및 저장 완료\")\n",
    "else:\n",
    "    print(\"📂 저장된 전처리 데이터 불러오기\")\n",
    "    df = pd.read_pickle(data_pkl_path)"
   ]
  },
  {
   "cell_type": "code",
   "execution_count": null,
   "id": "10cfb135",
   "metadata": {},
   "outputs": [],
   "source": [
    "# ✅ train/test split 후 저장 및 재사용\n",
    "train_path = Path('./data/train.csv')\n",
    "test_path = Path('./data/test.csv')\n",
    "if not train_path.exists() or not test_path.exists():\n",
    "    print(\"🔀 데이터 분할 중...\")\n",
    "    train_df, test_df = train_test_split(df, test_size=0.2, random_state=42)\n",
    "    train_df.to_csv(train_path, index=False)\n",
    "    test_df.to_csv(test_path, index=False)\n",
    "    print(\"✅ 분할 저장 완료\")\n",
    "else:\n",
    "    print(\"📂 저장된 split 데이터 불러오기\")\n",
    "    train_df = pd.read_csv(train_path)\n",
    "    test_df = pd.read_csv(test_path)"
   ]
  },
  {
   "cell_type": "code",
   "execution_count": null,
   "id": "ea1c0f25",
   "metadata": {},
   "outputs": [],
   "source": [
    "# ✅ 시각화: 수치 변수들의 상관관계\n",
    "sns.pairplot(train_df[['TestScore_Math', 'TestScore_Reading', 'TestScore_Science']])\n",
    "plt.suptitle(\"📊 점수 간 상관관계\", y=1.02)\n",
    "plt.show()"
   ]
  },
  {
   "cell_type": "code",
   "execution_count": null,
   "id": "f729d220",
   "metadata": {},
   "outputs": [],
   "source": [
    "# ✅ 회귀 분석: 과학 점수 예측\n",
    "X_train = train_df[['TestScore_Math', 'TestScore_Reading', 'Gender', 'ParentalEducation']]\n",
    "y_train = train_df['TestScore_Science']\n",
    "X_test = test_df[['TestScore_Math', 'TestScore_Reading', 'Gender', 'ParentalEducation']]\n",
    "y_test = test_df['TestScore_Science']\n",
    "\n",
    "model = LinearRegression()\n",
    "model.fit(X_train, y_train)\n",
    "y_pred = model.predict(X_test)\n",
    "\n",
    "print(f\"MSE: {mean_squared_error(y_test, y_pred):.2f}\")\n",
    "print(f\"R²: {r2_score(y_test, y_pred):.2f}\")"
   ]
  },
  {
   "cell_type": "code",
   "execution_count": null,
   "id": "f4c240b4",
   "metadata": {},
   "outputs": [],
   "source": [
    "# ✅ 예측 결과 시각화\n",
    "plt.figure(figsize=(6,6))\n",
    "plt.scatter(y_test, y_pred, alpha=0.6)\n",
    "plt.plot([y_test.min(), y_test.max()], [y_test.min(), y_test.max()], 'r--')\n",
    "plt.xlabel(\"실제 과학 점수\")\n",
    "plt.ylabel(\"예측된 과학 점수\")\n",
    "plt.title(\"예측 vs 실제 (과학 점수)\")\n",
    "plt.grid(True)\n",
    "plt.tight_layout()\n",
    "plt.show()"
   ]
  }
 ],
 "metadata": {},
 "nbformat": 4,
 "nbformat_minor": 5
}
