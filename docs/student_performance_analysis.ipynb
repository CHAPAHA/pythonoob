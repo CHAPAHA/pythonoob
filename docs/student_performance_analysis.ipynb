{
  "cells": [
    {
      "cell_type": "code",
      "execution_count": null,
      "metadata": {},
      "outputs": [],
      "source": [
        "from datasets import load_dataset\n",
        "import pandas as pd\n",
        "import seaborn as sns\n",
        "import matplotlib.pyplot as plt\n",
        "from sklearn.preprocessing import LabelEncoder\n",
        "from sklearn.model_selection import train_test_split\n",
        "from sklearn.linear_model import LinearRegression\n",
        "from sklearn.metrics import mean_squared_error, r2_score\n",
        "print(\"✅ 라이브러리 불러오기 완료\")"
      ]
    },
    {
      "cell_type": "code",
      "execution_count": null,
      "metadata": {},
      "outputs": [],
      "source": [
        "dataset = load_dataset(\"neuralsorcerer/student-performance\")\n",
        "df = dataset[\"train\"].to_pandas()\n",
        "df.head()"
      ]
    },
    {
      "cell_type": "code",
      "execution_count": null,
      "metadata": {},
      "outputs": [],
      "source": [
        "cols = [\"Gender\", \"ParentalEducation\", \"TestScore_Math\", \"TestScore_Reading\", \"TestScore_Science\"]\n",
        "df = df[cols].dropna()\n",
        "df.info()"
      ]
    },
    {
      "cell_type": "code",
      "execution_count": null,
      "metadata": {},
      "outputs": [],
      "source": [
        "le_gender = LabelEncoder()\n",
        "le_parent = LabelEncoder()\n",
        "df[\"Gender\"] = le_gender.fit_transform(df[\"Gender\"])\n",
        "df[\"ParentalEducation\"] = le_parent.fit_transform(df[\"ParentalEducation\"])\n",
        "df.head()"
      ]
    },
    {
      "cell_type": "code",
      "execution_count": null,
      "metadata": {},
      "outputs": [],
      "source": [
        "df.groupby(\"Gender\")[[\"TestScore_Math\", \"TestScore_Reading\", \"TestScore_Science\"]].mean()"
      ]
    },
    {
      "cell_type": "code",
      "execution_count": null,
      "metadata": {},
      "outputs": [],
      "source": [
        "sns.boxplot(x=\"Gender\", y=\"TestScore_Math\", data=df)\n",
        "plt.title(\"성별에 따른 수학 점수 분포\")\n",
        "plt.xlabel(\"Gender (0: Female, 1: Male)\")\n",
        "plt.ylabel(\"TestScore_Math\")\n",
        "plt.tight_layout()\n",
        "plt.show()"
      ]
    },
    {
      "cell_type": "code",
      "execution_count": null,
      "metadata": {},
      "outputs": [],
      "source": [
        "X = df[[\"Gender\", \"ParentalEducation\"]]\n",
        "y = df[\"TestScore_Math\"]\n",
        "X_train, X_test, y_train, y_test = train_test_split(X, y, test_size=0.2, random_state=42)\n",
        "model = LinearRegression()\n",
        "model.fit(X_train, y_train)\n",
        "y_pred = model.predict(X_test)"
      ]
    },
    {
      "cell_type": "code",
      "execution_count": null,
      "metadata": {},
      "outputs": [],
      "source": [
        "print(\"RMSE:\", mean_squared_error(y_test, y_pred, squared=False))\n",
        "print(\"R²:\", r2_score(y_test, y_pred))"
      ]
    },
    {
      "cell_type": "code",
      "execution_count": null,
      "metadata": {},
      "outputs": [],
      "source": [
        "plt.scatter(y_test, y_pred)\n",
        "plt.plot([y_test.min(), y_test.max()], [y_test.min(), y_test.max()], \"r--\")\n",
        "plt.xlabel(\"실제 수학 점수\")\n",
        "plt.ylabel(\"예측된 수학 점수\")\n",
        "plt.title(\"예측 vs 실제 수학 점수\")\n",
        "plt.tight_layout()\n",
        "plt.show()"
      ]
    }
  ],
  "metadata": {
    "kernelspec": {
      "display_name": "Python 3",
      "language": "python",
      "name": "python3"
    },
    "language_info": {
      "name": "python",
      "version": "3.9"
    }
  },
  "nbformat": 4,
  "nbformat_minor": 5
}
