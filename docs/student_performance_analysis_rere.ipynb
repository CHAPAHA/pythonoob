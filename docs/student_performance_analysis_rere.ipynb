{
 "cells": [
  {
   "cell_type": "code",
   "execution_count": null,
   "id": "94788496",
   "metadata": {},
   "outputs": [],
   "source": [
    "# 라이브려ㅓ리 불러오기\n",
    "\n",
    "from datasets import load_dataset\n",
    "import pandas as pd\n",
    "import seaborn as sns\n",
    "import matplotlib.pyplot as plt\n",
    "from sklearn.preprocessing import LabelEncoder\n",
    "from sklearn.model_selection import train_test_split\n",
    "from sklearn.linear_model import LinearRegression\n",
    "from sklearn.metrics import mean_squared_error, r2_score\n",
    "print(\"✅ 라이브러리 불러오기 완료\")"
   ]
  },
  {
   "cell_type": "code",
   "execution_count": null,
   "id": "90cd1a97",
   "metadata": {},
   "outputs": [],
   "source": [
    "\n",
    "# ✅ 데이터 로딩: 저장된 데이터가 있으면 불러오고, 없으면 HuggingFace에서 다운로드하여 저장\n",
    "import os\n",
    "import pandas as pd\n",
    "from datasets import load_dataset\n",
    "from sklearn.preprocessing import LabelEncoder\n",
    "\n",
    "data_path = \"./data/student_data.pkl\"\n",
    "\n",
    "if not os.path.exists(data_path):\n",
    "    print(\"🔄 HuggingFace에서 데이터를 처음 다운로드합니다...\")\n",
    "    dataset = load_dataset(\"neuralsorcerer/student-performance\")\n",
    "    df = dataset[\"train\"].to_pandas()\n",
    "\n",
    "    # 열 추출 및 결측치 제거\n",
    "    cols = [\"Gender\", \"ParentalEducation\", \"TestScore_Math\", \"TestScore_Reading\", \"TestScore_Science\"]\n",
    "    df = df[cols].dropna()\n",
    "\n",
    "    # 범주형 변수 인코딩\n",
    "    le_gender = LabelEncoder()\n",
    "    le_parent = LabelEncoder()\n",
    "    df[\"Gender\"] = le_gender.fit_transform(df[\"Gender\"])\n",
    "    df[\"ParentalEducation\"] = le_parent.fit_transform(df[\"ParentalEducation\"])\n",
    "\n",
    "    # 저장\n",
    "    df.to_pickle(data_path)\n",
    "    print(f\"✅ 전처리 완료 및 저장됨: {data_path}\")\n",
    "else:\n",
    "    print(f\"📁 기존 전처리된 데이터를 불러옵니다: {data_path}\")\n",
    "    df = pd.read_pickle(data_path)\n",
    "\n",
    "df.head()\n"
   ]
  },
  {
   "cell_type": "code",
   "execution_count": null,
   "id": "40fd7b84",
   "metadata": {},
   "outputs": [],
   "source": [
    "# 명목변수 인코딩\n",
    "le_gender = LabelEncoder()\n",
    "le_parent = LabelEncoder()\n",
    "df[\"Gender\"] = le_gender.fit_transform(df[\"Gender\"])\n",
    "df[\"ParentalEducation\"] = le_parent.fit_transform(df[\"ParentalEducation\"])\n",
    "df.head()"
   ]
  },
  {
   "cell_type": "code",
   "execution_count": null,
   "id": "81df6238",
   "metadata": {},
   "outputs": [],
   "source": [
    "\n",
    "# ✅ 학습용/테스트용 데이터 분할 & 저장 또는 재사용\n",
    "import os\n",
    "\n",
    "split_dir = \"./data\"\n",
    "X_train_path = os.path.join(split_dir, \"X_train.pkl\")\n",
    "X_test_path = os.path.join(split_dir, \"X_test.pkl\")\n",
    "y_train_path = os.path.join(split_dir, \"y_train.pkl\")\n",
    "y_test_path = os.path.join(split_dir, \"y_test.pkl\")\n",
    "\n",
    "if not os.path.exists(X_train_path):\n",
    "    from sklearn.model_selection import train_test_split\n",
    "    X = df[[\"Gender\", \"ParentalEducation\"]]\n",
    "    y = df[\"TestScore_Math\"]\n",
    "    X_train, X_test, y_train, y_test = train_test_split(X, y, test_size=0.2, random_state=42)\n",
    "\n",
    "    X_train.to_pickle(X_train_path)\n",
    "    X_test.to_pickle(X_test_path)\n",
    "    y_train.to_pickle(y_train_path)\n",
    "    y_test.to_pickle(y_test_path)\n",
    "    print(\"✅ 데이터 분할 및 저장 완료\")\n",
    "else:\n",
    "    X_train = pd.read_pickle(X_train_path)\n",
    "    X_test = pd.read_pickle(X_test_path)\n",
    "    y_train = pd.read_pickle(y_train_path)\n",
    "    y_test = pd.read_pickle(y_test_path)\n",
    "    print(\"📁 분할된 데이터를 재사용합니다.\")\n"
   ]
  },
  {
   "cell_type": "code",
   "execution_count": null,
   "id": "13d52293",
   "metadata": {},
   "outputs": [],
   "source": [
    "df.groupby(\"Gender\")[[\"TestScore_Math\", \"TestScore_Reading\", \"TestScore_Science\"]].mean()"
   ]
  },
  {
   "cell_type": "code",
   "execution_count": null,
   "id": "3d82435a",
   "metadata": {},
   "outputs": [],
   "source": [
    "sns.boxplot(x=\"Gender\", y=\"TestScore_Math\", data=df)\n",
    "plt.title(\"성별에 따른 수학 점수 분포\")\n",
    "plt.xlabel(\"Gender (0: Female, 1: Male)\")\n",
    "plt.ylabel(\"TestScore_Math\")\n",
    "plt.tight_layout()\n",
    "plt.show()"
   ]
  },
  {
   "cell_type": "code",
   "execution_count": null,
   "id": "64fc013b",
   "metadata": {},
   "outputs": [],
   "source": [
    "X = df[[\"Gender\", \"ParentalEducation\"]]\n",
    "y = df[\"TestScore_Math\"]\n",
    "X_train, X_test, y_train, y_test = train_test_split(X, y, test_size=0.2, random_state=42)\n",
    "model = LinearRegression()\n",
    "model.fit(X_train, y_train)\n",
    "y_pred = model.predict(X_test)"
   ]
  },
  {
   "cell_type": "code",
   "execution_count": null,
   "id": "aec224e6",
   "metadata": {},
   "outputs": [],
   "source": [
    "print(\"RMSE:\", mean_squared_error(y_test, y_pred, squared=False))\n",
    "print(\"R²:\", r2_score(y_test, y_pred))"
   ]
  },
  {
   "cell_type": "code",
   "execution_count": null,
   "id": "68c1f66a",
   "metadata": {},
   "outputs": [],
   "source": [
    "plt.scatter(y_test, y_pred)\n",
    "plt.plot([y_test.min(), y_test.max()], [y_test.min(), y_test.max()], \"r--\")\n",
    "plt.xlabel(\"실제 수학 점수\")\n",
    "plt.ylabel(\"예측된 수학 점수\")\n",
    "plt.title(\"예측 vs 실제 수학 점수\")\n",
    "plt.tight_layout()\n",
    "plt.show()"
   ]
  }
 ],
 "metadata": {
  "kernelspec": {
   "display_name": "myenv",
   "language": "python",
   "name": "python3"
  },
  "language_info": {
   "codemirror_mode": {
    "name": "ipython",
    "version": 3
   },
   "file_extension": ".py",
   "mimetype": "text/x-python",
   "name": "python",
   "nbconvert_exporter": "python",
   "pygments_lexer": "ipython3",
   "version": "3.12.7"
  }
 },
 "nbformat": 4,
 "nbformat_minor": 5
}
