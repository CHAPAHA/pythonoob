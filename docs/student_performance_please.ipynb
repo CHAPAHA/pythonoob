{
 "cells": [
  {
   "cell_type": "code",
   "execution_count": null,
   "id": "9ddf4f17",
   "metadata": {},
   "outputs": [],
   "source": [
    "# ✅ 필요한 라이브러리 불러오기\n",
    "from datasets import load_dataset\n",
    "import pandas as pd\n",
    "from pathlib import Path\n",
    "from sklearn.model_selection import train_test_split\n",
    "from sklearn.linear_model import LinearRegression\n",
    "from sklearn.metrics import mean_squared_error, r2_score\n",
    "import matplotlib.pyplot as plt\n",
    "import seaborn as sns\n",
    "print(\"✅ 라이브러리 불러오기 완료\")"
   ]
  },
  {
   "cell_type": "code",
   "execution_count": null,
   "id": "42c22dab",
   "metadata": {},
   "outputs": [],
   "source": [
    "# ✅ 데이터가 존재하는지 확인 후, 없으면 다운로드 및 저장\n",
    "data_path = Path('./data/student_performance.csv')\n",
    "if not data_path.exists():\n",
    "    print(\"🔽 데이터 다운로드 중...\")\n",
    "    dataset = load_dataset(\"neuralsorcerer/student-performance\")\n",
    "    df = dataset['train'].to_pandas()\n",
    "    data_path.parent.mkdir(parents=True, exist_ok=True)\n",
    "    df.to_csv(data_path, index=False)\n",
    "    print(\"✅ 데이터 저장 완료\")\n",
    "else:\n",
    "    print(\"📂 저장된 데이터 불러오기\")\n",
    "    df = pd.read_csv(data_path)"
   ]
  },
  {
   "cell_type": "code",
   "execution_count": null,
   "id": "a273dbbd",
   "metadata": {},
   "outputs": [],
   "source": [
    "# ✅ 필요한 컬럼만 선택하고 결측치 제거\n",
    "cols = ['Gender', 'ParentalEducation', 'TestScore_Math', 'TestScore_Reading', 'TestScore_Science']\n",
    "df = df[cols].dropna()\n",
    "print(f\"📏 정제된 데이터 크기: {df.shape}\")"
   ]
  },
  {
   "cell_type": "code",
   "execution_count": null,
   "id": "e37198b2",
   "metadata": {},
   "outputs": [],
   "source": [
    "# ✅ 데이터 분할 및 저장, 이미 존재하면 불러오기\n",
    "train_path = Path('./data/train.csv')\n",
    "test_path = Path('./data/test.csv')\n",
    "if not train_path.exists() or not test_path.exists():\n",
    "    print(\"🔀 데이터 분할 중...\")\n",
    "    train_df, test_df = train_test_split(df, test_size=0.2, random_state=42)\n",
    "    train_df.to_csv(train_path, index=False)\n",
    "    test_df.to_csv(test_path, index=False)\n",
    "    print(\"✅ 분할 데이터 저장 완료\")\n",
    "else:\n",
    "    print(\"📂 저장된 train/test 데이터 불러오기\")\n",
    "    train_df = pd.read_csv(train_path)\n",
    "    test_df = pd.read_csv(test_path)"
   ]
  },
  {
   "cell_type": "code",
   "execution_count": null,
   "id": "641c26aa",
   "metadata": {},
   "outputs": [],
   "source": [
    "# ✅ 시각화: 과목별 점수 분포 확인\n",
    "sns.pairplot(train_df[['TestScore_Math', 'TestScore_Reading', 'TestScore_Science']])\n",
    "plt.suptitle(\"📊 과목별 점수 분포 및 상관관계\", y=1.02)\n",
    "plt.show()"
   ]
  },
  {
   "cell_type": "code",
   "execution_count": null,
   "id": "7f4663cc",
   "metadata": {},
   "outputs": [],
   "source": [
    "# ✅ 회귀 분석: 과학 점수를 수학/읽기 점수로 예측\n",
    "X_train = train_df[['TestScore_Math', 'TestScore_Reading']]\n",
    "y_train = train_df['TestScore_Science']\n",
    "X_test = test_df[['TestScore_Math', 'TestScore_Reading']]\n",
    "y_test = test_df['TestScore_Science']\n",
    "\n",
    "model = LinearRegression()\n",
    "model.fit(X_train, y_train)\n",
    "\n",
    "y_pred = model.predict(X_test)\n",
    "\n",
    "print(f\"MSE: {mean_squared_error(y_test, y_pred):.2f}\")\n",
    "print(f\"R²: {r2_score(y_test, y_pred):.2f}\")"
   ]
  },
  {
   "cell_type": "code",
   "execution_count": null,
   "id": "0a6384ea",
   "metadata": {},
   "outputs": [],
   "source": [
    "# ✅ 예측 결과 시각화\n",
    "plt.figure(figsize=(6, 6))\n",
    "plt.scatter(y_test, y_pred, alpha=0.6)\n",
    "plt.xlabel(\"Actual Science Scores\")\n",
    "plt.ylabel(\"Predicted Science Scores\")\n",
    "plt.title(\"🎯 예측 vs 실제: 과학 점수\")\n",
    "plt.plot([y_test.min(), y_test.max()], [y_test.min(), y_test.max()], 'r--')\n",
    "plt.grid(True)\n",
    "plt.show()"
   ]
  }
 ],
 "metadata": {},
 "nbformat": 4,
 "nbformat_minor": 5
}
